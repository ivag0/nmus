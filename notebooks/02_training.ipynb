{
 "cells": [
  {
   "cell_type": "code",
   "execution_count": null,
   "id": "9888393b",
   "metadata": {},
   "outputs": [],
   "source": [
    "import torchaudio\n",
    "import torch\n",
    "import matplotlib as plt\n",
    "\n",
    "def preprocess_audio(audio_path, target_sr = 22050) -> torch.Tensor:\n",
    "    waveform, sr = torchaudio.load(audio_path, normalize=True, channels_first=True)\n",
    "    #уменьшил частоту дискретизации, чтобы ещё меньше датасет весил, а то везде 44100 Гц или почти везде\n",
    "    if sr != target_sr:\n",
    "        waveform = torchaudio.functional.resample(waveform, sr, target_sr)\n",
    "    \n",
    "    mel_spectrogram = torchaudio.transforms.MelSpectrogram(\n",
    "        sample_rate=target_sr,\n",
    "        n_mels=128,        \n",
    "        n_fft=1024,       \n",
    "        hop_length=256,\n",
    "        f_min=20,\n",
    "        f_max=11025\n",
    "    )(waveform)\n",
    "    return mel_spectrogram\n",
    "\n",
    "mel_spektr = preprocess_audio(\"../data/train/00/7400.mp3\")\n",
    "\n",
    "#mel-спектрограмма\n",
    "plt.figure(figsize=(16, 8))\n",
    "plt.imshow(mel_spektr.log2()[0,:,:].numpy(), cmap='viridis', origin='lower', aspect='auto')\n",
    "plt.colorbar(label='Громкость (dB)')\n",
    "plt.title(\"Mel-спектрограмма\")\n",
    "plt.xlabel(\"Время (кадры)\")\n",
    "plt.ylabel(\"Mel-банки\")\n",
    "plt.show()"
   ]
  }
 ],
 "metadata": {
  "kernelspec": {
   "display_name": "nmus",
   "language": "python",
   "name": "python3"
  },
  "language_info": {
   "codemirror_mode": {
    "name": "ipython",
    "version": 3
   },
   "file_extension": ".py",
   "mimetype": "text/x-python",
   "name": "python",
   "nbconvert_exporter": "python",
   "pygments_lexer": "ipython3",
   "version": "3.12.3"
  }
 },
 "nbformat": 4,
 "nbformat_minor": 5
}
